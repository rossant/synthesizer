{
 "metadata": {
  "name": "pyaudio"
 },
 "nbformat": 3,
 "nbformat_minor": 0,
 "worksheets": [
  {
   "cells": [
    {
     "cell_type": "code",
     "collapsed": false,
     "input": [
      "import sys\n",
      "import time\n",
      "import threading\n",
      "import pyaudio"
     ],
     "language": "python",
     "metadata": {},
     "outputs": [],
     "prompt_number": 24
    },
    {
     "cell_type": "code",
     "collapsed": false,
     "input": [
      "class Player(object):\n",
      "    def __init__(self, buffer, chunk_size=None, rate=None, live=None):\n",
      "        self.rate = rate\n",
      "        self.buffer_size = buffer.size / 2\n",
      "        assert chunk_size < self.buffer_size\n",
      "        assert buffer.dtype == np.float32\n",
      "        self.buffer = buffer\n",
      "        self.chunk_size = chunk_size\n",
      "        self.live = live\n",
      "        self.paused = False\n",
      "    \n",
      "    def _swap_buffers(self):\n",
      "        if self.live:\n",
      "            b0 = self.buffer[:self.buffer_size]\n",
      "        else:\n",
      "            b0 = np.zeros(self.buffer_size, dtype=np.float32)\n",
      "        self.buffer[:self.buffer_size], self.buffer[self.buffer_size:] = self.buffer[self.buffer_size:], b0\n",
      "            \n",
      "    def _play_chunk(self):\n",
      "        chunk = self.buffer[self.i:self.i + self.chunk_size]\n",
      "        self.stream.write(chunk.tostring())\n",
      "        self.i += self.chunk_size\n",
      "        if self.i >= self.buffer_size:\n",
      "            self.i -= self.buffer_size\n",
      "            self._swap_buffers()\n",
      "        \n",
      "    def _play(self):\n",
      "        # Open the stream on the background thread.\n",
      "        self.p = pyaudio.PyAudio()\n",
      "        self.stream = self.p.open(format=pyaudio.paFloat32, channels=1, rate=self.rate, output=1)\n",
      "        if self.paused:\n",
      "            self.paused = False\n",
      "        while not self.paused:\n",
      "            self._play_chunk()\n",
      "        \n",
      "    def play(self):\n",
      "        if not hasattr(self, '_thread'):\n",
      "            self.i = 0\n",
      "            self._thread = threading.Thread(target=self._play)\n",
      "            self._thread.daemon = True\n",
      "            self._thread.start()\n",
      "        \n",
      "    def pause(self):\n",
      "        self.paused = True\n",
      "        time.sleep(2 * float(self.chunk_size) / self.rate)\n",
      "        self.stream.close()\n",
      "        self._thread.join()\n",
      "        del self._thread"
     ],
     "language": "python",
     "metadata": {},
     "outputs": [],
     "prompt_number": 28
    },
    {
     "cell_type": "code",
     "collapsed": false,
     "input": [
      "rate = 44100\n",
      "buffer_duration = 1.\n",
      "buffer_size = int(buffer_duration * rate)\n",
      "chunk_size = 1024\n",
      "buffer = np.zeros(2 * buffer_size, dtype=np.float32)"
     ],
     "language": "python",
     "metadata": {},
     "outputs": [],
     "prompt_number": 14
    },
    {
     "cell_type": "code",
     "collapsed": false,
     "input": [
      "t = linspace(0., 2 * buffer_duration, 2 * buffer_size)\n",
      "f0 = 440.\n",
      "x = sin(2 * pi * f0 * t) * .1\n",
      "buffer[:] = x"
     ],
     "language": "python",
     "metadata": {},
     "outputs": [],
     "prompt_number": 15
    },
    {
     "cell_type": "code",
     "collapsed": false,
     "input": [
      "p = Player(buffer, chunk_size=chunk_size, rate=rate, live=True)"
     ],
     "language": "python",
     "metadata": {},
     "outputs": [],
     "prompt_number": 29
    },
    {
     "cell_type": "code",
     "collapsed": false,
     "input": [
      "p.play()"
     ],
     "language": "python",
     "metadata": {},
     "outputs": [],
     "prompt_number": 30
    },
    {
     "cell_type": "code",
     "collapsed": false,
     "input": [
      "p.pause()"
     ],
     "language": "python",
     "metadata": {},
     "outputs": [],
     "prompt_number": 31
    },
    {
     "cell_type": "markdown",
     "metadata": {},
     "source": [
      "Old\n",
      "---"
     ]
    },
    {
     "cell_type": "markdown",
     "metadata": {},
     "source": [
      "    def play(chunk):\n",
      "        p = pyaudio.PyAudio()\n",
      "        stream = p.open(format=pyaudio.paFloat32, channels=1, rate=44100, output=1)\n",
      "        stream.write(chunk.astype(numpy.float32).tostring())\n",
      "        stream.close()\n",
      "        p.terminate()"
     ]
    },
    {
     "cell_type": "markdown",
     "metadata": {},
     "source": [
      "    t = linspace(0., 1., 44100)\n",
      "    x = sin(440*2*pi*t)\n",
      "    play(x)"
     ]
    },
    {
     "cell_type": "markdown",
     "metadata": {},
     "source": [
      "    Ideas to live stream audio: double buffer.\n",
      "    data = 20*seconds array\n",
      "    [----------|----------]\n",
      "    direct buffer, back buffer\n",
      "    pointer = position between 0 and 10 seconds\n",
      "    at any instant, any action has a impact lasting less than 10 seconds\n",
      "    when pointer = 10 seconds, back buffer -> direct buffer, reinit back buffer\n",
      "\n",
      "    1024 chunk size\n",
      "callback method: read the chunk in the direct buffer and move the pointer, at 10 seconds, reinit the pointer\n",
      "another thread handles changing the array and switching the buffers\n",
      "\n",
      "or maybe simpler not to use two threads and not using callback method"
     ]
    }
   ],
   "metadata": {}
  }
 ]
}