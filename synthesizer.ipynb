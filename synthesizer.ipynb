{
 "metadata": {
  "name": "synthesizer"
 },
 "nbformat": 3,
 "nbformat_minor": 0,
 "worksheets": [
  {
   "cells": [
    {
     "cell_type": "code",
     "collapsed": false,
     "input": [
      "import sys\n",
      "import time\n",
      "import threading\n",
      "import pyaudio"
     ],
     "language": "python",
     "metadata": {},
     "outputs": [],
     "prompt_number": 4
    },
    {
     "cell_type": "code",
     "collapsed": false,
     "input": [
      "class Player(object):\n",
      "    def __init__(self, rate=None, callback=None):\n",
      "        self.rate = rate\n",
      "        self.callback = callback\n",
      "        self.paused = False\n",
      "\n",
      "    def _play_chunk(self):\n",
      "        chunk = self.callback()\n",
      "        self.stream.write(chunk.astype(np.float32).tostring())\n",
      "\n",
      "    def _play(self):\n",
      "        # Open the stream on the background thread.\n",
      "        self.p = pyaudio.PyAudio()\n",
      "        self.stream = self.p.open(format=pyaudio.paFloat32, channels=1, rate=self.rate, output=1)\n",
      "        if self.paused:\n",
      "            self.paused = False\n",
      "        # Main loop.\n",
      "        while not self.paused:\n",
      "            self._play_chunk()\n",
      "        \n",
      "    def play(self):\n",
      "        if not hasattr(self, '_thread'):\n",
      "            self._thread = threading.Thread(target=self._play)\n",
      "            self._thread.daemon = True\n",
      "            self._thread.start()\n",
      "    \n",
      "    def pause(self):\n",
      "        self.paused = True\n",
      "        time.sleep(.1)\n",
      "        self.stream.close()\n",
      "        self._thread.join()\n",
      "        del self._thread"
     ],
     "language": "python",
     "metadata": {},
     "outputs": [],
     "prompt_number": 74
    },
    {
     "cell_type": "code",
     "collapsed": false,
     "input": [
      "def callback():\n",
      "    t = np.arange(0, 100 * float(rate) / f0) / float(rate)\n",
      "    return sin(2 * pi * f0 * t)"
     ],
     "language": "python",
     "metadata": {},
     "outputs": [],
     "prompt_number": 75
    },
    {
     "cell_type": "code",
     "collapsed": false,
     "input": [
      "rate = 44100"
     ],
     "language": "python",
     "metadata": {},
     "outputs": [],
     "prompt_number": 76
    },
    {
     "cell_type": "code",
     "collapsed": false,
     "input": [
      "p = Player(rate=rate, callback=callback)"
     ],
     "language": "python",
     "metadata": {},
     "outputs": [],
     "prompt_number": 77
    },
    {
     "cell_type": "code",
     "collapsed": false,
     "input": [
      "f0 = 220."
     ],
     "language": "python",
     "metadata": {},
     "outputs": [],
     "prompt_number": 82
    },
    {
     "cell_type": "code",
     "collapsed": false,
     "input": [
      "p.play()"
     ],
     "language": "python",
     "metadata": {},
     "outputs": [],
     "prompt_number": 83
    },
    {
     "cell_type": "code",
     "collapsed": false,
     "input": [
      "p.pause()"
     ],
     "language": "python",
     "metadata": {},
     "outputs": [],
     "prompt_number": 84
    },
    {
     "cell_type": "code",
     "collapsed": false,
     "input": [],
     "language": "python",
     "metadata": {},
     "outputs": [],
     "prompt_number": 11
    }
   ],
   "metadata": {}
  }
 ]
}